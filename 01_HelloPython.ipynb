{
  "nbformat": 4,
  "nbformat_minor": 0,
  "metadata": {
    "colab": {
      "name": "01-HelloPython.ipynb",
      "provenance": [],
      "collapsed_sections": [],
      "include_colab_link": true
    },
    "kernelspec": {
      "display_name": "Python 3",
      "language": "python",
      "name": "python3"
    },
    "language_info": {
      "codemirror_mode": {
        "name": "ipython",
        "version": 3
      },
      "file_extension": ".py",
      "mimetype": "text/x-python",
      "name": "python",
      "nbconvert_exporter": "python",
      "pygments_lexer": "ipython3",
      "version": "3.6.9"
    }
  },
  "cells": [
    {
      "cell_type": "markdown",
      "metadata": {
        "id": "view-in-github",
        "colab_type": "text"
      },
      "source": [
        "<a href=\"https://colab.research.google.com/github/jeonuenseo/DeepLearning-20F/blob/master/01_HelloPython.ipynb\" target=\"_parent\"><img src=\"https://colab.research.google.com/assets/colab-badge.svg\" alt=\"Open In Colab\"/></a>"
      ]
    },
    {
      "cell_type": "markdown",
      "metadata": {
        "id": "L1lpHn8jTZrC"
      },
      "source": [
        "## Python tutorial #1"
      ]
    },
    {
      "cell_type": "markdown",
      "metadata": {
        "id": "NV0U7twhALRD"
      },
      "source": [
        "## Hello World!"
      ]
    },
    {
      "cell_type": "code",
      "metadata": {
        "colab": {
          "base_uri": "https://localhost:8080/",
          "height": 52
        },
        "id": "wqgGZNA6TuRf",
        "outputId": "a10325ac-5786-4ab9-9d9d-e4117ba005d1"
      },
      "source": [
        "print( 'Hello world')\n",
        "print('Hello world {} + {} = {}'.format(2, 3, 2+3))"
      ],
      "execution_count": null,
      "outputs": [
        {
          "output_type": "stream",
          "text": [
            "Hello world\n",
            "Hello world 2 + 3 = 5\n"
          ],
          "name": "stdout"
        }
      ]
    },
    {
      "cell_type": "markdown",
      "metadata": {
        "id": "5PZFbE38AP9e"
      },
      "source": [
        "##Basic datatypes"
      ]
    },
    {
      "cell_type": "code",
      "metadata": {
        "colab": {
          "base_uri": "https://localhost:8080/",
          "height": 52
        },
        "id": "6E73JBqnUL9-",
        "outputId": "9963fba0-6cfc-475c-a3dd-32f35dfc9af9"
      },
      "source": [
        "x = 3\n",
        "print(type(x)) #Print\"<class 'int'>\n",
        "print(x)       #Print \"3\""
      ],
      "execution_count": null,
      "outputs": [
        {
          "output_type": "stream",
          "text": [
            "<class 'int'>\n",
            "3\n"
          ],
          "name": "stdout"
        }
      ]
    },
    {
      "cell_type": "code",
      "metadata": {
        "colab": {
          "base_uri": "https://localhost:8080/",
          "height": 87
        },
        "id": "HiZO5cQyUZY9",
        "outputId": "0143129d-d2eb-45d2-f992-129423f5368d"
      },
      "source": [
        "print(x + 1) # Addition; prints \"4\"\n",
        "print(x - 1) # Subtraction; prints \"2\"\n",
        "print(x * 2) # Multiplication; prints \"6\"\n",
        "print(x ** 2) # Exponentiation; prints \"9\""
      ],
      "execution_count": null,
      "outputs": [
        {
          "output_type": "stream",
          "text": [
            "4\n",
            "2\n",
            "6\n",
            "9\n"
          ],
          "name": "stdout"
        }
      ]
    },
    {
      "cell_type": "markdown",
      "metadata": {
        "id": "Osc29YCOUejn"
      },
      "source": [
        "##For statement"
      ]
    },
    {
      "cell_type": "markdown",
      "metadata": {
        "id": "WIfRvTozUjg8"
      },
      "source": [
        "range: 영역을 설정"
      ]
    },
    {
      "cell_type": "code",
      "metadata": {
        "colab": {
          "base_uri": "https://localhost:8080/",
          "height": 34
        },
        "id": "6VoifYNiUc7P",
        "outputId": "df9c9bfc-e902-4c05-bd3a-6aa95bc6ab10"
      },
      "source": [
        "A = range(5)\n",
        "print(A)"
      ],
      "execution_count": null,
      "outputs": [
        {
          "output_type": "stream",
          "text": [
            "range(0, 5)\n"
          ],
          "name": "stdout"
        }
      ]
    },
    {
      "cell_type": "markdown",
      "metadata": {
        "id": "BNu17ztMWBxt"
      },
      "source": [
        "A의 세번째 요소 출력"
      ]
    },
    {
      "cell_type": "code",
      "metadata": {
        "colab": {
          "base_uri": "https://localhost:8080/",
          "height": 34
        },
        "id": "noO8tAmXV_LM",
        "outputId": "134c791d-b9ec-44b1-8100-566d23b3b057"
      },
      "source": [
        "print(A[2])"
      ],
      "execution_count": null,
      "outputs": [
        {
          "output_type": "stream",
          "text": [
            "2\n"
          ],
          "name": "stdout"
        }
      ]
    },
    {
      "cell_type": "code",
      "metadata": {
        "colab": {
          "base_uri": "https://localhost:8080/",
          "height": 105
        },
        "id": "6pJP15DpWddx",
        "outputId": "2cf6cb3f-0cf7-4773-b7b6-1237b2bfad08"
      },
      "source": [
        "for i in range(5):\n",
        " #print(i, A[i])\n",
        " print('{} ----- {}'.format(i, A[i]))\n"
      ],
      "execution_count": null,
      "outputs": [
        {
          "output_type": "stream",
          "text": [
            "0 ----- 0\n",
            "1 ----- 1\n",
            "2 ----- 2\n",
            "3 ----- 3\n",
            "4 ----- 4\n"
          ],
          "name": "stdout"
        }
      ]
    },
    {
      "cell_type": "markdown",
      "metadata": {
        "id": "4k8cxMLrA2Ak"
      },
      "source": [
        "exercise\n",
        "구구단을 작성하시오"
      ]
    },
    {
      "cell_type": "code",
      "metadata": {
        "colab": {
          "base_uri": "https://localhost:8080/",
          "height": 175
        },
        "id": "bOc-cABGb2fT",
        "outputId": "76b1b528-744f-419a-f5fc-53c3e545cf76"
      },
      "source": [
        "for i in range(9):\n",
        "  print('{} x {} = {}'.format(2, (i+1), 2*(i+1)))"
      ],
      "execution_count": null,
      "outputs": [
        {
          "output_type": "stream",
          "text": [
            "2 x 1 = 2\n",
            "2 x 2 = 4\n",
            "2 x 3 = 6\n",
            "2 x 4 = 8\n",
            "2 x 5 = 10\n",
            "2 x 6 = 12\n",
            "2 x 7 = 14\n",
            "2 x 8 = 16\n",
            "2 x 9 = 18\n"
          ],
          "name": "stdout"
        }
      ]
    },
    {
      "cell_type": "markdown",
      "metadata": {
        "id": "w6lT9NWUBmJ0"
      },
      "source": [
        "##operators"
      ]
    },
    {
      "cell_type": "code",
      "metadata": {
        "colab": {
          "base_uri": "https://localhost:8080/",
          "height": 70
        },
        "id": "DwC6oBxJBJ8i",
        "outputId": "e3d3b7e3-414a-499a-e185-ffec753b0bc6"
      },
      "source": [
        "print((1, 2, 3) * 3)\n",
        "print([1, 2, 3] * 3)\n",
        "print(\"Hello \"*3)"
      ],
      "execution_count": null,
      "outputs": [
        {
          "output_type": "stream",
          "text": [
            "(1, 2, 3, 1, 2, 3, 1, 2, 3)\n",
            "[1, 2, 3, 1, 2, 3, 1, 2, 3]\n",
            "Hello Hello Hello \n"
          ],
          "name": "stdout"
        }
      ]
    },
    {
      "cell_type": "markdown",
      "metadata": {
        "id": "icf8lvoNBv6f"
      },
      "source": [
        "##Containers\n",
        "Python includes several built-in container types: lists, dictionaries, sets, and tuples.\n"
      ]
    },
    {
      "cell_type": "markdown",
      "metadata": {
        "id": "8uOL4cTaB0w4"
      },
      "source": [
        "##Tuple\n",
        "A simple immutable (변경할 수 없는, 불변의) ordered sequence of items"
      ]
    },
    {
      "cell_type": "code",
      "metadata": {
        "colab": {
          "base_uri": "https://localhost:8080/",
          "height": 52
        },
        "id": "EX8ywzEEBsrk",
        "outputId": "44823d7b-906b-472b-9ef1-c59200f12834"
      },
      "source": [
        "# -*- coding: utf-8 -*-\n",
        "# creating a tuple\n",
        "months = ('January','February','March','April','May','June',\\\n",
        "'July','August','September','October','November','December')\n",
        "print(months[0])\n",
        "print(\"index of 7 ==> \" , months[7])"
      ],
      "execution_count": null,
      "outputs": [
        {
          "output_type": "stream",
          "text": [
            "January\n",
            "index of 7 ==>  August\n"
          ],
          "name": "stdout"
        }
      ]
    },
    {
      "cell_type": "markdown",
      "metadata": {
        "id": "UoWuZJraCbiE"
      },
      "source": [
        "하나씩 출력하기"
      ]
    },
    {
      "cell_type": "code",
      "metadata": {
        "colab": {
          "base_uri": "https://localhost:8080/",
          "height": 228
        },
        "id": "uuZks2wDB66H",
        "outputId": "26cd0eb1-1ad3-49e4-ea6a-1f20153659e7"
      },
      "source": [
        "# iterate through them:\n",
        "for item in months:\n",
        " print (item)"
      ],
      "execution_count": null,
      "outputs": [
        {
          "output_type": "stream",
          "text": [
            "January\n",
            "February\n",
            "March\n",
            "April\n",
            "May\n",
            "June\n",
            "July\n",
            "August\n",
            "September\n",
            "October\n",
            "November\n",
            "December\n"
          ],
          "name": "stdout"
        }
      ]
    },
    {
      "cell_type": "code",
      "metadata": {
        "colab": {
          "base_uri": "https://localhost:8080/",
          "height": 140
        },
        "id": "55Gx-SJyCtgp",
        "outputId": "61a5d5f5-a357-4173-8deb-65354e5e5ebf"
      },
      "source": [
        "t = ('john', 32, (2,3,4,5), 'hello')\n",
        "print(t)\n",
        "print(t[2])\n",
        "print(t[2][1])\n",
        "print(t[:2]) # index 포함 X\n",
        "print(t[2:]) # index 포함 O\n",
        "print(t[-1])\n",
        "print(t[-2])"
      ],
      "execution_count": null,
      "outputs": [
        {
          "output_type": "stream",
          "text": [
            "('john', 32, (2, 3, 4, 5), 'hello')\n",
            "(2, 3, 4, 5)\n",
            "3\n",
            "('john', 32)\n",
            "((2, 3, 4, 5), 'hello')\n",
            "hello\n",
            "(2, 3, 4, 5)\n"
          ],
          "name": "stdout"
        }
      ]
    },
    {
      "cell_type": "markdown",
      "metadata": {
        "id": "iarZm2EGI0hH"
      },
      "source": [
        "List\n"
      ]
    },
    {
      "cell_type": "markdown",
      "metadata": {
        "id": "uhgFmUhzI62W"
      },
      "source": [
        "Mutable (바꿀수 있는, 변경가능한) ordered sequence of items of mixed types\n"
      ]
    },
    {
      "cell_type": "code",
      "metadata": {
        "colab": {
          "base_uri": "https://localhost:8080/",
          "height": 34
        },
        "id": "nY-3bFGlIzma",
        "outputId": "3212625e-2758-4eb1-b926-fd8eac00d7ea"
      },
      "source": [
        "li = ['hallym', 1, 3.141572, 'hello']\n",
        "print(li)"
      ],
      "execution_count": null,
      "outputs": [
        {
          "output_type": "stream",
          "text": [
            "['hallym', 1, 3.141572, 'hello']\n"
          ],
          "name": "stdout"
        }
      ]
    },
    {
      "cell_type": "code",
      "metadata": {
        "colab": {
          "base_uri": "https://localhost:8080/",
          "height": 34
        },
        "id": "y8OxaiDfI-J8",
        "outputId": "a4914a21-dfb5-4359-df2a-036c5430e358"
      },
      "source": [
        "li[1] = 45\n",
        "print(li)"
      ],
      "execution_count": null,
      "outputs": [
        {
          "output_type": "stream",
          "text": [
            "['hallym', 45, 3.141572, 'hello']\n"
          ],
          "name": "stdout"
        }
      ]
    },
    {
      "cell_type": "code",
      "metadata": {
        "colab": {
          "base_uri": "https://localhost:8080/",
          "height": 34
        },
        "id": "Qs8hble3JBqV",
        "outputId": "7cee9649-33dd-4a56-8155-e821529b5690"
      },
      "source": [
        "li.append('September')\n",
        "print(li)"
      ],
      "execution_count": null,
      "outputs": [
        {
          "output_type": "stream",
          "text": [
            "['hallym', 45, 3.141572, 'hello', 'September']\n"
          ],
          "name": "stdout"
        }
      ]
    },
    {
      "cell_type": "markdown",
      "metadata": {
        "id": "cD32iQ91JGP8"
      },
      "source": [
        "리스트에 새로운 것이 뒤에 붙은 것(append)을 확인 가능"
      ]
    },
    {
      "cell_type": "code",
      "metadata": {
        "id": "62E6R3vHJErp"
      },
      "source": [
        "#비어 있는 리스트 만들기\n",
        "v = []"
      ],
      "execution_count": null,
      "outputs": []
    },
    {
      "cell_type": "code",
      "metadata": {
        "colab": {
          "base_uri": "https://localhost:8080/",
          "height": 70
        },
        "id": "PiftrjwuJa1l",
        "outputId": "2070ec47-ca76-4696-e0dc-42f3cad15b9b"
      },
      "source": [
        "#비어있는 리스트에 값 추가하기\n",
        "for i in range(0,3):\n",
        "  v.append(i*5)\n",
        "  print(i, v)"
      ],
      "execution_count": null,
      "outputs": [
        {
          "output_type": "stream",
          "text": [
            "0 [0]\n",
            "1 [0, 5]\n",
            "2 [0, 5, 10]\n"
          ],
          "name": "stdout"
        }
      ]
    },
    {
      "cell_type": "markdown",
      "metadata": {
        "id": "2dQZHcchJkd3"
      },
      "source": [
        "+연산자"
      ]
    },
    {
      "cell_type": "code",
      "metadata": {
        "colab": {
          "base_uri": "https://localhost:8080/",
          "height": 70
        },
        "id": "jW0W9MOPJi31",
        "outputId": "b0b3fbda-57be-46f7-afe4-4ad8175e8e39"
      },
      "source": [
        "print((1, 2, 3) + (4, 5, 6))\n",
        "print([1, 2, 3] + [4, 5, 6])\n",
        "print(\"Hello\" + \" \" + \"World\")"
      ],
      "execution_count": null,
      "outputs": [
        {
          "output_type": "stream",
          "text": [
            "(1, 2, 3, 4, 5, 6)\n",
            "[1, 2, 3, 4, 5, 6]\n",
            "Hello World\n"
          ],
          "name": "stdout"
        }
      ]
    },
    {
      "cell_type": "markdown",
      "metadata": {
        "id": "0H4tKrSlJruH"
      },
      "source": [
        "*연산자"
      ]
    },
    {
      "cell_type": "code",
      "metadata": {
        "colab": {
          "base_uri": "https://localhost:8080/",
          "height": 52
        },
        "id": "MkXPxp4VJntu",
        "outputId": "858051a3-f4dd-489f-a778-2de744e03065"
      },
      "source": [
        "y = 2.5\n",
        "print(type(y)) # Prints \"<class 'float'>\"\n",
        "print(y, y + 1, y * 2, y ** 2) # Prints \"2.5 3.5 5.0 6.25\""
      ],
      "execution_count": null,
      "outputs": [
        {
          "output_type": "stream",
          "text": [
            "<class 'float'>\n",
            "2.5 3.5 5.0 6.25\n"
          ],
          "name": "stdout"
        }
      ]
    },
    {
      "cell_type": "markdown",
      "metadata": {
        "id": "ygNr5XoLJwAP"
      },
      "source": [
        "Enumeration(열거하기)"
      ]
    },
    {
      "cell_type": "code",
      "metadata": {
        "colab": {
          "base_uri": "https://localhost:8080/",
          "height": 70
        },
        "id": "zWljeaqNJuy_",
        "outputId": "836e2add-36e2-4e18-dc92-88426dc3495c"
      },
      "source": [
        "for i, val in enumerate(v):\n",
        "  print('{} ---> {}'.format(i, val))"
      ],
      "execution_count": null,
      "outputs": [
        {
          "output_type": "stream",
          "text": [
            "0 ---> 0\n",
            "1 ---> 5\n",
            "2 ---> 10\n"
          ],
          "name": "stdout"
        }
      ]
    },
    {
      "cell_type": "code",
      "metadata": {
        "colab": {
          "base_uri": "https://localhost:8080/",
          "height": 34
        },
        "id": "so9gqXvgKDw7",
        "outputId": "1152ed9e-f7a0-4245-d71c-eef0f2fc80c8"
      },
      "source": [
        "v2 = [ 'A', 'B', 'C', '0', '1', '2', '3']\n",
        "print(v2)"
      ],
      "execution_count": null,
      "outputs": [
        {
          "output_type": "stream",
          "text": [
            "['A', 'B', 'C', '0', '1', '2', '3']\n"
          ],
          "name": "stdout"
        }
      ]
    },
    {
      "cell_type": "code",
      "metadata": {
        "colab": {
          "base_uri": "https://localhost:8080/",
          "height": 140
        },
        "id": "CLXidEM7KGkY",
        "outputId": "97cf350f-7b44-4a85-a43f-5e86fe07d7ad"
      },
      "source": [
        "for i, val in enumerate(v2):\n",
        " print('{} ---> {}'.format(i, val))"
      ],
      "execution_count": null,
      "outputs": [
        {
          "output_type": "stream",
          "text": [
            "0 ---> A\n",
            "1 ---> B\n",
            "2 ---> C\n",
            "3 ---> 0\n",
            "4 ---> 1\n",
            "5 ---> 2\n",
            "6 ---> 3\n"
          ],
          "name": "stdout"
        }
      ]
    },
    {
      "cell_type": "code",
      "metadata": {
        "id": "UQMhKoX8KIGC"
      },
      "source": [
        "List comprehension(LC)"
      ],
      "execution_count": null,
      "outputs": []
    },
    {
      "cell_type": "code",
      "metadata": {
        "id": "wgE9X-STBzhk"
      },
      "source": [
        "squares = []\n",
        "for x in range(10):\n",
        "    squares.append(x**2)"
      ],
      "execution_count": null,
      "outputs": []
    },
    {
      "cell_type": "code",
      "metadata": {
        "id": "qR2lrE4dBzhl",
        "outputId": "ec3434ff-32e8-44ed-b0c1-a41fbb82122c"
      },
      "source": [
        "print(squares)"
      ],
      "execution_count": null,
      "outputs": [
        {
          "output_type": "stream",
          "text": [
            "[0, 1, 4, 9, 16, 25, 36, 49, 64, 81]\n"
          ],
          "name": "stdout"
        }
      ]
    },
    {
      "cell_type": "markdown",
      "metadata": {
        "id": "gjaitU32Bzhm"
      },
      "source": [
        "or, equivalently:"
      ]
    },
    {
      "cell_type": "code",
      "metadata": {
        "id": "1oRhvvOlBzhm"
      },
      "source": [
        "squares = [x**2 for x in range(10)]"
      ],
      "execution_count": null,
      "outputs": []
    },
    {
      "cell_type": "code",
      "metadata": {
        "id": "2IgPj6GqBzhm",
        "outputId": "f910c4c5-ff9b-4edf-a01d-6eb35a4f2eae"
      },
      "source": [
        "print(squares)"
      ],
      "execution_count": null,
      "outputs": [
        {
          "output_type": "stream",
          "text": [
            "[0, 1, 4, 9, 16, 25, 36, 49, 64, 81]\n"
          ],
          "name": "stdout"
        }
      ]
    },
    {
      "cell_type": "code",
      "metadata": {
        "id": "2S1YwmChBzhm",
        "outputId": "1c4d0c4b-e8f0-43d5-d6c8-841bd1d159a8"
      },
      "source": [
        "word = '메롱'\n",
        "print([c * 2 for c in word])"
      ],
      "execution_count": null,
      "outputs": [
        {
          "output_type": "stream",
          "text": [
            "['메메', '롱롱']\n"
          ],
          "name": "stdout"
        }
      ]
    },
    {
      "cell_type": "code",
      "metadata": {
        "id": "0ms8tBEUBzhn"
      },
      "source": [
        "A = [n for n in range(10) if n % 2 == 0]"
      ],
      "execution_count": null,
      "outputs": []
    },
    {
      "cell_type": "code",
      "metadata": {
        "id": "68Qcpp4LBzhn",
        "outputId": "c1a85301-0fc5-4ee0-c791-6841338d2249"
      },
      "source": [
        "print(A) # LC 에서 조건문을 통해 특정 값들을 필터링할 수 있다"
      ],
      "execution_count": null,
      "outputs": [
        {
          "output_type": "stream",
          "text": [
            "[0, 2, 4, 6, 8]\n"
          ],
          "name": "stdout"
        }
      ]
    },
    {
      "cell_type": "markdown",
      "metadata": {
        "id": "xgm0cfgQBzhn"
      },
      "source": [
        "Lamda (익명함수)"
      ]
    },
    {
      "cell_type": "code",
      "metadata": {
        "id": "cYRcWlNQBzho"
      },
      "source": [
        "def jegob(x):\n",
        "    return x**2"
      ],
      "execution_count": null,
      "outputs": []
    },
    {
      "cell_type": "code",
      "metadata": {
        "id": "4qPRofYoBzho"
      },
      "source": [
        "g = lambda x: x**2"
      ],
      "execution_count": null,
      "outputs": []
    },
    {
      "cell_type": "code",
      "metadata": {
        "id": "MUnGr83kBzho",
        "outputId": "f0c47fbf-eac5-496d-c1e3-d4013d25c0c4"
      },
      "source": [
        "g(7)"
      ],
      "execution_count": null,
      "outputs": [
        {
          "output_type": "execute_result",
          "data": {
            "text/plain": [
              "49"
            ]
          },
          "metadata": {
            "tags": []
          },
          "execution_count": 31
        }
      ]
    },
    {
      "cell_type": "code",
      "metadata": {
        "id": "zPu0Vsq1Bzhp",
        "outputId": "9e9c1dbb-bc31-432c-94d7-4b56d3aee7c0"
      },
      "source": [
        "print(g(8))"
      ],
      "execution_count": null,
      "outputs": [
        {
          "output_type": "stream",
          "text": [
            "64\n"
          ],
          "name": "stdout"
        }
      ]
    },
    {
      "cell_type": "code",
      "metadata": {
        "id": "6Kl4yjlEBzhp",
        "outputId": "6237b929-c3c4-4302-f614-687a9a2df9ee"
      },
      "source": [
        "print(g(9))"
      ],
      "execution_count": null,
      "outputs": [
        {
          "output_type": "stream",
          "text": [
            "81\n"
          ],
          "name": "stdout"
        }
      ]
    },
    {
      "cell_type": "code",
      "metadata": {
        "id": "3VpKIK7kBzhp"
      },
      "source": [
        "f = lambda x, y: x + y"
      ],
      "execution_count": null,
      "outputs": []
    },
    {
      "cell_type": "code",
      "metadata": {
        "id": "nwmDbPyMBzhq",
        "outputId": "9f03f1b3-93ed-479f-eb2f-c3d05a235f01"
      },
      "source": [
        "f(2, 3)"
      ],
      "execution_count": null,
      "outputs": [
        {
          "output_type": "execute_result",
          "data": {
            "text/plain": [
              "5"
            ]
          },
          "metadata": {
            "tags": []
          },
          "execution_count": 35
        }
      ]
    },
    {
      "cell_type": "markdown",
      "metadata": {
        "id": "df7Q8enwBzhq"
      },
      "source": [
        "인자가 없는 Lamda"
      ]
    },
    {
      "cell_type": "code",
      "metadata": {
        "id": "J4kL3wtwBzhq"
      },
      "source": [
        "f = lambda: True"
      ],
      "execution_count": null,
      "outputs": []
    },
    {
      "cell_type": "code",
      "metadata": {
        "id": "xV1YRGHZBzhq",
        "outputId": "432d47ac-e757-4692-99b7-6a2234cd772c"
      },
      "source": [
        "f()"
      ],
      "execution_count": null,
      "outputs": [
        {
          "output_type": "execute_result",
          "data": {
            "text/plain": [
              "True"
            ]
          },
          "metadata": {
            "tags": []
          },
          "execution_count": 37
        }
      ]
    },
    {
      "cell_type": "code",
      "metadata": {
        "id": "QPGJ53H1Bzhr"
      },
      "source": [
        ""
      ],
      "execution_count": null,
      "outputs": []
    }
  ]
}