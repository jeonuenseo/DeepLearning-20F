{
 "cells": [
  {
   "cell_type": "markdown",
   "metadata": {
    "colab_type": "text",
    "id": "L1lpHn8jTZrC"
   },
   "source": [
    "## Python tutorial #1"
   ]
  },
  {
   "cell_type": "markdown",
   "metadata": {
    "colab_type": "text",
    "id": "NV0U7twhALRD"
   },
   "source": [
    "## Hello World!"
   ]
  },
  {
   "cell_type": "code",
   "execution_count": 1,
   "metadata": {
    "colab": {
     "base_uri": "https://localhost:8080/",
     "height": 52
    },
    "colab_type": "code",
    "executionInfo": {
     "elapsed": 566,
     "status": "ok",
     "timestamp": 1599108839389,
     "user": {
      "displayName": "전은서",
      "photoUrl": "",
      "userId": "00449156262051407787"
     },
     "user_tz": -540
    },
    "id": "wqgGZNA6TuRf",
    "outputId": "a10325ac-5786-4ab9-9d9d-e4117ba005d1"
   },
   "outputs": [
    {
     "name": "stdout",
     "output_type": "stream",
     "text": [
      "Hello world\n",
      "Hello world 2 + 3 = 5\n"
     ]
    }
   ],
   "source": [
    "print( 'Hello world')\n",
    "print('Hello world {} + {} = {}'.format(2, 3, 2+3))"
   ]
  },
  {
   "cell_type": "markdown",
   "metadata": {
    "colab_type": "text",
    "id": "5PZFbE38AP9e"
   },
   "source": [
    "##Basic datatypes"
   ]
  },
  {
   "cell_type": "code",
   "execution_count": 2,
   "metadata": {
    "colab": {
     "base_uri": "https://localhost:8080/",
     "height": 52
    },
    "colab_type": "code",
    "executionInfo": {
     "elapsed": 652,
     "status": "ok",
     "timestamp": 1599108913468,
     "user": {
      "displayName": "전은서",
      "photoUrl": "",
      "userId": "00449156262051407787"
     },
     "user_tz": -540
    },
    "id": "6E73JBqnUL9-",
    "outputId": "9963fba0-6cfc-475c-a3dd-32f35dfc9af9"
   },
   "outputs": [
    {
     "name": "stdout",
     "output_type": "stream",
     "text": [
      "<class 'int'>\n",
      "3\n"
     ]
    }
   ],
   "source": [
    "x = 3\n",
    "print(type(x)) #Print\"<class 'int'>\n",
    "print(x)       #Print \"3\""
   ]
  },
  {
   "cell_type": "code",
   "execution_count": 3,
   "metadata": {
    "colab": {
     "base_uri": "https://localhost:8080/",
     "height": 87
    },
    "colab_type": "code",
    "executionInfo": {
     "elapsed": 509,
     "status": "ok",
     "timestamp": 1599108927824,
     "user": {
      "displayName": "전은서",
      "photoUrl": "",
      "userId": "00449156262051407787"
     },
     "user_tz": -540
    },
    "id": "HiZO5cQyUZY9",
    "outputId": "0143129d-d2eb-45d2-f992-129423f5368d"
   },
   "outputs": [
    {
     "name": "stdout",
     "output_type": "stream",
     "text": [
      "4\n",
      "2\n",
      "6\n",
      "9\n"
     ]
    }
   ],
   "source": [
    "print(x + 1) # Addition; prints \"4\"\n",
    "print(x - 1) # Subtraction; prints \"2\"\n",
    "print(x * 2) # Multiplication; prints \"6\"\n",
    "print(x ** 2) # Exponentiation; prints \"9\""
   ]
  },
  {
   "cell_type": "markdown",
   "metadata": {
    "colab_type": "text",
    "id": "Osc29YCOUejn"
   },
   "source": [
    "##For statement"
   ]
  },
  {
   "cell_type": "markdown",
   "metadata": {
    "colab_type": "text",
    "id": "WIfRvTozUjg8"
   },
   "source": [
    "range: 영역을 설정"
   ]
  },
  {
   "cell_type": "code",
   "execution_count": 4,
   "metadata": {
    "colab": {
     "base_uri": "https://localhost:8080/",
     "height": 34
    },
    "colab_type": "code",
    "executionInfo": {
     "elapsed": 1333,
     "status": "ok",
     "timestamp": 1599573543055,
     "user": {
      "displayName": "전은서",
      "photoUrl": "",
      "userId": "00449156262051407787"
     },
     "user_tz": -540
    },
    "id": "6VoifYNiUc7P",
    "outputId": "df9c9bfc-e902-4c05-bd3a-6aa95bc6ab10"
   },
   "outputs": [
    {
     "name": "stdout",
     "output_type": "stream",
     "text": [
      "range(0, 5)\n"
     ]
    }
   ],
   "source": [
    "A = range(5)\n",
    "print(A)"
   ]
  },
  {
   "cell_type": "markdown",
   "metadata": {
    "colab_type": "text",
    "id": "BNu17ztMWBxt"
   },
   "source": [
    "A의 세번째 요소 출력"
   ]
  },
  {
   "cell_type": "code",
   "execution_count": 5,
   "metadata": {
    "colab": {
     "base_uri": "https://localhost:8080/",
     "height": 34
    },
    "colab_type": "code",
    "executionInfo": {
     "elapsed": 1353,
     "status": "ok",
     "timestamp": 1599573543555,
     "user": {
      "displayName": "전은서",
      "photoUrl": "",
      "userId": "00449156262051407787"
     },
     "user_tz": -540
    },
    "id": "noO8tAmXV_LM",
    "outputId": "134c791d-b9ec-44b1-8100-566d23b3b057"
   },
   "outputs": [
    {
     "name": "stdout",
     "output_type": "stream",
     "text": [
      "2\n"
     ]
    }
   ],
   "source": [
    "print(A[2])"
   ]
  },
  {
   "cell_type": "code",
   "execution_count": 6,
   "metadata": {
    "colab": {
     "base_uri": "https://localhost:8080/",
     "height": 105
    },
    "colab_type": "code",
    "executionInfo": {
     "elapsed": 468,
     "status": "ok",
     "timestamp": 1599573544141,
     "user": {
      "displayName": "전은서",
      "photoUrl": "",
      "userId": "00449156262051407787"
     },
     "user_tz": -540
    },
    "id": "6pJP15DpWddx",
    "outputId": "2cf6cb3f-0cf7-4773-b7b6-1237b2bfad08"
   },
   "outputs": [
    {
     "name": "stdout",
     "output_type": "stream",
     "text": [
      "0 ----- 0\n",
      "1 ----- 1\n",
      "2 ----- 2\n",
      "3 ----- 3\n",
      "4 ----- 4\n"
     ]
    }
   ],
   "source": [
    "for i in range(5):\n",
    " #print(i, A[i])\n",
    " print('{} ----- {}'.format(i, A[i]))\n"
   ]
  },
  {
   "cell_type": "markdown",
   "metadata": {
    "colab_type": "text",
    "id": "4k8cxMLrA2Ak"
   },
   "source": [
    "exercise\n",
    "구구단을 작성하시오"
   ]
  },
  {
   "cell_type": "code",
   "execution_count": 7,
   "metadata": {
    "colab": {
     "base_uri": "https://localhost:8080/",
     "height": 175
    },
    "colab_type": "code",
    "executionInfo": {
     "elapsed": 623,
     "status": "ok",
     "timestamp": 1599573740262,
     "user": {
      "displayName": "전은서",
      "photoUrl": "",
      "userId": "00449156262051407787"
     },
     "user_tz": -540
    },
    "id": "bOc-cABGb2fT",
    "outputId": "76b1b528-744f-419a-f5fc-53c3e545cf76"
   },
   "outputs": [
    {
     "name": "stdout",
     "output_type": "stream",
     "text": [
      "2 x 1 = 2\n",
      "2 x 2 = 4\n",
      "2 x 3 = 6\n",
      "2 x 4 = 8\n",
      "2 x 5 = 10\n",
      "2 x 6 = 12\n",
      "2 x 7 = 14\n",
      "2 x 8 = 16\n",
      "2 x 9 = 18\n"
     ]
    }
   ],
   "source": [
    "for i in range(9):\n",
    "  print('{} x {} = {}'.format(2, (i+1), 2*(i+1)))"
   ]
  },
  {
   "cell_type": "markdown",
   "metadata": {
    "colab_type": "text",
    "id": "w6lT9NWUBmJ0"
   },
   "source": [
    "##operators"
   ]
  },
  {
   "cell_type": "code",
   "execution_count": 8,
   "metadata": {
    "colab": {
     "base_uri": "https://localhost:8080/",
     "height": 70
    },
    "colab_type": "code",
    "executionInfo": {
     "elapsed": 698,
     "status": "ok",
     "timestamp": 1599573773853,
     "user": {
      "displayName": "전은서",
      "photoUrl": "",
      "userId": "00449156262051407787"
     },
     "user_tz": -540
    },
    "id": "DwC6oBxJBJ8i",
    "outputId": "e3d3b7e3-414a-499a-e185-ffec753b0bc6"
   },
   "outputs": [
    {
     "name": "stdout",
     "output_type": "stream",
     "text": [
      "(1, 2, 3, 1, 2, 3, 1, 2, 3)\n",
      "[1, 2, 3, 1, 2, 3, 1, 2, 3]\n",
      "Hello Hello Hello \n"
     ]
    }
   ],
   "source": [
    "print((1, 2, 3) * 3)\n",
    "print([1, 2, 3] * 3)\n",
    "print(\"Hello \"*3)"
   ]
  },
  {
   "cell_type": "markdown",
   "metadata": {
    "colab_type": "text",
    "id": "icf8lvoNBv6f"
   },
   "source": [
    "##Containers\n",
    "Python includes several built-in container types: lists, dictionaries, sets, and tuples.\n"
   ]
  },
  {
   "cell_type": "markdown",
   "metadata": {
    "colab_type": "text",
    "id": "8uOL4cTaB0w4"
   },
   "source": [
    "##Tuple\n",
    "A simple immutable (변경할 수 없는, 불변의) ordered sequence of items"
   ]
  },
  {
   "cell_type": "code",
   "execution_count": 9,
   "metadata": {
    "colab": {
     "base_uri": "https://localhost:8080/",
     "height": 52
    },
    "colab_type": "code",
    "executionInfo": {
     "elapsed": 967,
     "status": "ok",
     "timestamp": 1599573838667,
     "user": {
      "displayName": "전은서",
      "photoUrl": "",
      "userId": "00449156262051407787"
     },
     "user_tz": -540
    },
    "id": "EX8ywzEEBsrk",
    "outputId": "44823d7b-906b-472b-9ef1-c59200f12834"
   },
   "outputs": [
    {
     "name": "stdout",
     "output_type": "stream",
     "text": [
      "January\n",
      "index of 7 ==>  August\n"
     ]
    }
   ],
   "source": [
    "# -*- coding: utf-8 -*-\n",
    "# creating a tuple\n",
    "months = ('January','February','March','April','May','June',\\\n",
    "'July','August','September','October','November','December')\n",
    "print(months[0])\n",
    "print(\"index of 7 ==> \" , months[7])"
   ]
  },
  {
   "cell_type": "markdown",
   "metadata": {
    "colab_type": "text",
    "id": "UoWuZJraCbiE"
   },
   "source": [
    "하나씩 출력하기"
   ]
  },
  {
   "cell_type": "code",
   "execution_count": 10,
   "metadata": {
    "colab": {
     "base_uri": "https://localhost:8080/",
     "height": 228
    },
    "colab_type": "code",
    "executionInfo": {
     "elapsed": 455,
     "status": "ok",
     "timestamp": 1599574042433,
     "user": {
      "displayName": "전은서",
      "photoUrl": "",
      "userId": "00449156262051407787"
     },
     "user_tz": -540
    },
    "id": "uuZks2wDB66H",
    "outputId": "26cd0eb1-1ad3-49e4-ea6a-1f20153659e7"
   },
   "outputs": [
    {
     "name": "stdout",
     "output_type": "stream",
     "text": [
      "January\n",
      "February\n",
      "March\n",
      "April\n",
      "May\n",
      "June\n",
      "July\n",
      "August\n",
      "September\n",
      "October\n",
      "November\n",
      "December\n"
     ]
    }
   ],
   "source": [
    "# iterate through them:\n",
    "for item in months:\n",
    " print (item)"
   ]
  },
  {
   "cell_type": "code",
   "execution_count": 11,
   "metadata": {
    "colab": {
     "base_uri": "https://localhost:8080/",
     "height": 140
    },
    "colab_type": "code",
    "executionInfo": {
     "elapsed": 1251,
     "status": "ok",
     "timestamp": 1599575637708,
     "user": {
      "displayName": "전은서",
      "photoUrl": "",
      "userId": "00449156262051407787"
     },
     "user_tz": -540
    },
    "id": "55Gx-SJyCtgp",
    "outputId": "61a5d5f5-a357-4173-8deb-65354e5e5ebf"
   },
   "outputs": [
    {
     "name": "stdout",
     "output_type": "stream",
     "text": [
      "('john', 32, (2, 3, 4, 5), 'hello')\n",
      "(2, 3, 4, 5)\n",
      "3\n",
      "('john', 32)\n",
      "((2, 3, 4, 5), 'hello')\n",
      "hello\n",
      "(2, 3, 4, 5)\n"
     ]
    }
   ],
   "source": [
    "t = ('john', 32, (2,3,4,5), 'hello')\n",
    "print(t)\n",
    "print(t[2])\n",
    "print(t[2][1])\n",
    "print(t[:2]) # index 포함 X\n",
    "print(t[2:]) # index 포함 O\n",
    "print(t[-1])\n",
    "print(t[-2])"
   ]
  },
  {
   "cell_type": "markdown",
   "metadata": {
    "colab_type": "text",
    "id": "iarZm2EGI0hH"
   },
   "source": [
    "List\n"
   ]
  },
  {
   "cell_type": "markdown",
   "metadata": {
    "colab_type": "text",
    "id": "uhgFmUhzI62W"
   },
   "source": [
    "Mutable (바꿀수 있는, 변경가능한) ordered sequence of items of mixed types\n"
   ]
  },
  {
   "cell_type": "code",
   "execution_count": 12,
   "metadata": {
    "colab": {
     "base_uri": "https://localhost:8080/",
     "height": 34
    },
    "colab_type": "code",
    "executionInfo": {
     "elapsed": 1744,
     "status": "ok",
     "timestamp": 1599575681432,
     "user": {
      "displayName": "전은서",
      "photoUrl": "",
      "userId": "00449156262051407787"
     },
     "user_tz": -540
    },
    "id": "nY-3bFGlIzma",
    "outputId": "3212625e-2758-4eb1-b926-fd8eac00d7ea"
   },
   "outputs": [
    {
     "name": "stdout",
     "output_type": "stream",
     "text": [
      "['hallym', 1, 3.141572, 'hello']\n"
     ]
    }
   ],
   "source": [
    "li = ['hallym', 1, 3.141572, 'hello']\n",
    "print(li)"
   ]
  },
  {
   "cell_type": "code",
   "execution_count": 13,
   "metadata": {
    "colab": {
     "base_uri": "https://localhost:8080/",
     "height": 34
    },
    "colab_type": "code",
    "executionInfo": {
     "elapsed": 979,
     "status": "ok",
     "timestamp": 1599575695016,
     "user": {
      "displayName": "전은서",
      "photoUrl": "",
      "userId": "00449156262051407787"
     },
     "user_tz": -540
    },
    "id": "y8OxaiDfI-J8",
    "outputId": "a4914a21-dfb5-4359-df2a-036c5430e358"
   },
   "outputs": [
    {
     "name": "stdout",
     "output_type": "stream",
     "text": [
      "['hallym', 45, 3.141572, 'hello']\n"
     ]
    }
   ],
   "source": [
    "li[1] = 45\n",
    "print(li)"
   ]
  },
  {
   "cell_type": "code",
   "execution_count": 14,
   "metadata": {
    "colab": {
     "base_uri": "https://localhost:8080/",
     "height": 34
    },
    "colab_type": "code",
    "executionInfo": {
     "elapsed": 1704,
     "status": "ok",
     "timestamp": 1599575708133,
     "user": {
      "displayName": "전은서",
      "photoUrl": "",
      "userId": "00449156262051407787"
     },
     "user_tz": -540
    },
    "id": "Qs8hble3JBqV",
    "outputId": "7cee9649-33dd-4a56-8155-e821529b5690"
   },
   "outputs": [
    {
     "name": "stdout",
     "output_type": "stream",
     "text": [
      "['hallym', 45, 3.141572, 'hello', 'September']\n"
     ]
    }
   ],
   "source": [
    "li.append('September')\n",
    "print(li)"
   ]
  },
  {
   "cell_type": "markdown",
   "metadata": {
    "colab_type": "text",
    "id": "cD32iQ91JGP8"
   },
   "source": [
    "리스트에 새로운 것이 뒤에 붙은 것(append)을 확인 가능"
   ]
  },
  {
   "cell_type": "code",
   "execution_count": 15,
   "metadata": {
    "colab": {},
    "colab_type": "code",
    "executionInfo": {
     "elapsed": 669,
     "status": "ok",
     "timestamp": 1599575798690,
     "user": {
      "displayName": "전은서",
      "photoUrl": "",
      "userId": "00449156262051407787"
     },
     "user_tz": -540
    },
    "id": "62E6R3vHJErp"
   },
   "outputs": [],
   "source": [
    "#비어 있는 리스트 만들기\n",
    "v = []"
   ]
  },
  {
   "cell_type": "code",
   "execution_count": 16,
   "metadata": {
    "colab": {
     "base_uri": "https://localhost:8080/",
     "height": 70
    },
    "colab_type": "code",
    "executionInfo": {
     "elapsed": 709,
     "status": "ok",
     "timestamp": 1599575830841,
     "user": {
      "displayName": "전은서",
      "photoUrl": "",
      "userId": "00449156262051407787"
     },
     "user_tz": -540
    },
    "id": "PiftrjwuJa1l",
    "outputId": "2070ec47-ca76-4696-e0dc-42f3cad15b9b"
   },
   "outputs": [
    {
     "name": "stdout",
     "output_type": "stream",
     "text": [
      "0 [0]\n",
      "1 [0, 5]\n",
      "2 [0, 5, 10]\n"
     ]
    }
   ],
   "source": [
    "#비어있는 리스트에 값 추가하기\n",
    "for i in range(0,3):\n",
    "  v.append(i*5)\n",
    "  print(i, v)"
   ]
  },
  {
   "cell_type": "markdown",
   "metadata": {
    "colab_type": "text",
    "id": "2dQZHcchJkd3"
   },
   "source": [
    "+연산자"
   ]
  },
  {
   "cell_type": "code",
   "execution_count": 17,
   "metadata": {
    "colab": {
     "base_uri": "https://localhost:8080/",
     "height": 70
    },
    "colab_type": "code",
    "executionInfo": {
     "elapsed": 668,
     "status": "ok",
     "timestamp": 1599575850612,
     "user": {
      "displayName": "전은서",
      "photoUrl": "",
      "userId": "00449156262051407787"
     },
     "user_tz": -540
    },
    "id": "jW0W9MOPJi31",
    "outputId": "b0b3fbda-57be-46f7-afe4-4ad8175e8e39"
   },
   "outputs": [
    {
     "name": "stdout",
     "output_type": "stream",
     "text": [
      "(1, 2, 3, 4, 5, 6)\n",
      "[1, 2, 3, 4, 5, 6]\n",
      "Hello World\n"
     ]
    }
   ],
   "source": [
    "print((1, 2, 3) + (4, 5, 6))\n",
    "print([1, 2, 3] + [4, 5, 6])\n",
    "print(\"Hello\" + \" \" + \"World\")"
   ]
  },
  {
   "cell_type": "markdown",
   "metadata": {
    "colab_type": "text",
    "id": "0H4tKrSlJruH"
   },
   "source": [
    "*연산자"
   ]
  },
  {
   "cell_type": "code",
   "execution_count": 18,
   "metadata": {
    "colab": {
     "base_uri": "https://localhost:8080/",
     "height": 52
    },
    "colab_type": "code",
    "executionInfo": {
     "elapsed": 1058,
     "status": "ok",
     "timestamp": 1599575880019,
     "user": {
      "displayName": "전은서",
      "photoUrl": "",
      "userId": "00449156262051407787"
     },
     "user_tz": -540
    },
    "id": "MkXPxp4VJntu",
    "outputId": "858051a3-f4dd-489f-a778-2de744e03065"
   },
   "outputs": [
    {
     "name": "stdout",
     "output_type": "stream",
     "text": [
      "<class 'float'>\n",
      "2.5 3.5 5.0 6.25\n"
     ]
    }
   ],
   "source": [
    "y = 2.5\n",
    "print(type(y)) # Prints \"<class 'float'>\"\n",
    "print(y, y + 1, y * 2, y ** 2) # Prints \"2.5 3.5 5.0 6.25\""
   ]
  },
  {
   "cell_type": "markdown",
   "metadata": {
    "colab_type": "text",
    "id": "ygNr5XoLJwAP"
   },
   "source": [
    "Enumeration(열거하기)"
   ]
  },
  {
   "cell_type": "code",
   "execution_count": 19,
   "metadata": {
    "colab": {
     "base_uri": "https://localhost:8080/",
     "height": 70
    },
    "colab_type": "code",
    "executionInfo": {
     "elapsed": 1053,
     "status": "ok",
     "timestamp": 1599575966008,
     "user": {
      "displayName": "전은서",
      "photoUrl": "",
      "userId": "00449156262051407787"
     },
     "user_tz": -540
    },
    "id": "zWljeaqNJuy_",
    "outputId": "836e2add-36e2-4e18-dc92-88426dc3495c"
   },
   "outputs": [
    {
     "name": "stdout",
     "output_type": "stream",
     "text": [
      "0 ---> 0\n",
      "1 ---> 5\n",
      "2 ---> 10\n"
     ]
    }
   ],
   "source": [
    "for i, val in enumerate(v):\n",
    "  print('{} ---> {}'.format(i, val))"
   ]
  },
  {
   "cell_type": "code",
   "execution_count": 20,
   "metadata": {
    "colab": {
     "base_uri": "https://localhost:8080/",
     "height": 34
    },
    "colab_type": "code",
    "executionInfo": {
     "elapsed": 1194,
     "status": "ok",
     "timestamp": 1599575977487,
     "user": {
      "displayName": "전은서",
      "photoUrl": "",
      "userId": "00449156262051407787"
     },
     "user_tz": -540
    },
    "id": "so9gqXvgKDw7",
    "outputId": "1152ed9e-f7a0-4245-d71c-eef0f2fc80c8"
   },
   "outputs": [
    {
     "name": "stdout",
     "output_type": "stream",
     "text": [
      "['A', 'B', 'C', '0', '1', '2', '3']\n"
     ]
    }
   ],
   "source": [
    "v2 = [ 'A', 'B', 'C', '0', '1', '2', '3']\n",
    "print(v2)"
   ]
  },
  {
   "cell_type": "code",
   "execution_count": 21,
   "metadata": {
    "colab": {
     "base_uri": "https://localhost:8080/",
     "height": 140
    },
    "colab_type": "code",
    "executionInfo": {
     "elapsed": 1181,
     "status": "ok",
     "timestamp": 1599575983831,
     "user": {
      "displayName": "전은서",
      "photoUrl": "",
      "userId": "00449156262051407787"
     },
     "user_tz": -540
    },
    "id": "CLXidEM7KGkY",
    "outputId": "97cf350f-7b44-4a85-a43f-5e86fe07d7ad"
   },
   "outputs": [
    {
     "name": "stdout",
     "output_type": "stream",
     "text": [
      "0 ---> A\n",
      "1 ---> B\n",
      "2 ---> C\n",
      "3 ---> 0\n",
      "4 ---> 1\n",
      "5 ---> 2\n",
      "6 ---> 3\n"
     ]
    }
   ],
   "source": [
    "for i, val in enumerate(v2):\n",
    " print('{} ---> {}'.format(i, val))"
   ]
  },
  {
   "cell_type": "markdown",
   "metadata": {
    "colab": {},
    "colab_type": "code",
    "id": "UQMhKoX8KIGC"
   },
   "source": [
    "List comprehension(LC)"
   ]
  },
  {
   "cell_type": "code",
   "execution_count": 22,
   "metadata": {},
   "outputs": [],
   "source": [
    "squares = []\n",
    "for x in range(10):\n",
    "    squares.append(x**2)"
   ]
  },
  {
   "cell_type": "code",
   "execution_count": 23,
   "metadata": {},
   "outputs": [
    {
     "name": "stdout",
     "output_type": "stream",
     "text": [
      "[0, 1, 4, 9, 16, 25, 36, 49, 64, 81]\n"
     ]
    }
   ],
   "source": [
    "print(squares)"
   ]
  },
  {
   "cell_type": "markdown",
   "metadata": {},
   "source": [
    "or, equivalently:"
   ]
  },
  {
   "cell_type": "code",
   "execution_count": 24,
   "metadata": {},
   "outputs": [],
   "source": [
    "squares = [x**2 for x in range(10)]"
   ]
  },
  {
   "cell_type": "code",
   "execution_count": 25,
   "metadata": {},
   "outputs": [
    {
     "name": "stdout",
     "output_type": "stream",
     "text": [
      "[0, 1, 4, 9, 16, 25, 36, 49, 64, 81]\n"
     ]
    }
   ],
   "source": [
    "print(squares)"
   ]
  },
  {
   "cell_type": "code",
   "execution_count": 26,
   "metadata": {},
   "outputs": [
    {
     "name": "stdout",
     "output_type": "stream",
     "text": [
      "['메메', '롱롱']\n"
     ]
    }
   ],
   "source": [
    "word = '메롱'\n",
    "print([c * 2 for c in word])"
   ]
  },
  {
   "cell_type": "code",
   "execution_count": 27,
   "metadata": {},
   "outputs": [],
   "source": [
    "A = [n for n in range(10) if n % 2 == 0]"
   ]
  },
  {
   "cell_type": "code",
   "execution_count": 28,
   "metadata": {},
   "outputs": [
    {
     "name": "stdout",
     "output_type": "stream",
     "text": [
      "[0, 2, 4, 6, 8]\n"
     ]
    }
   ],
   "source": [
    "print(A) # LC 에서 조건문을 통해 특정 값들을 필터링할 수 있다"
   ]
  },
  {
   "cell_type": "markdown",
   "metadata": {},
   "source": [
    "Lamda (익명함수)"
   ]
  },
  {
   "cell_type": "code",
   "execution_count": 29,
   "metadata": {},
   "outputs": [],
   "source": [
    "def jegob(x):\n",
    "    return x**2"
   ]
  },
  {
   "cell_type": "code",
   "execution_count": 30,
   "metadata": {},
   "outputs": [],
   "source": [
    "g = lambda x: x**2"
   ]
  },
  {
   "cell_type": "code",
   "execution_count": 31,
   "metadata": {},
   "outputs": [
    {
     "data": {
      "text/plain": [
       "49"
      ]
     },
     "execution_count": 31,
     "metadata": {},
     "output_type": "execute_result"
    }
   ],
   "source": [
    "g(7)"
   ]
  },
  {
   "cell_type": "code",
   "execution_count": 32,
   "metadata": {},
   "outputs": [
    {
     "name": "stdout",
     "output_type": "stream",
     "text": [
      "64\n"
     ]
    }
   ],
   "source": [
    "print(g(8))"
   ]
  },
  {
   "cell_type": "code",
   "execution_count": 33,
   "metadata": {},
   "outputs": [
    {
     "name": "stdout",
     "output_type": "stream",
     "text": [
      "81\n"
     ]
    }
   ],
   "source": [
    "print(g(9))"
   ]
  },
  {
   "cell_type": "code",
   "execution_count": 34,
   "metadata": {},
   "outputs": [],
   "source": [
    "f = lambda x, y: x + y"
   ]
  },
  {
   "cell_type": "code",
   "execution_count": 35,
   "metadata": {},
   "outputs": [
    {
     "data": {
      "text/plain": [
       "5"
      ]
     },
     "execution_count": 35,
     "metadata": {},
     "output_type": "execute_result"
    }
   ],
   "source": [
    "f(2, 3)"
   ]
  },
  {
   "cell_type": "markdown",
   "metadata": {},
   "source": [
    "인자가 없는 Lamda"
   ]
  },
  {
   "cell_type": "code",
   "execution_count": 36,
   "metadata": {},
   "outputs": [],
   "source": [
    "f = lambda: True"
   ]
  },
  {
   "cell_type": "code",
   "execution_count": 37,
   "metadata": {},
   "outputs": [
    {
     "data": {
      "text/plain": [
       "True"
      ]
     },
     "execution_count": 37,
     "metadata": {},
     "output_type": "execute_result"
    }
   ],
   "source": [
    "f()"
   ]
  },
  {
   "cell_type": "code",
   "execution_count": null,
   "metadata": {},
   "outputs": [],
   "source": []
  }
 ],
 "metadata": {
  "colab": {
   "authorship_tag": "ABX9TyOhkSVua6aKOLD/ko3AMMLo",
   "collapsed_sections": [],
   "name": "01-HelloPython.ipynb",
   "provenance": []
  },
  "kernelspec": {
   "display_name": "Python 3",
   "language": "python",
   "name": "python3"
  },
  "language_info": {
   "codemirror_mode": {
    "name": "ipython",
    "version": 3
   },
   "file_extension": ".py",
   "mimetype": "text/x-python",
   "name": "python",
   "nbconvert_exporter": "python",
   "pygments_lexer": "ipython3",
   "version": "3.6.9"
  }
 },
 "nbformat": 4,
 "nbformat_minor": 1
}
