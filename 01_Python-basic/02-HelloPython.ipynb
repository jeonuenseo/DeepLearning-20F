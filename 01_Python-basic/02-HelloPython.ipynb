{
 "cells": [
  {
   "cell_type": "markdown",
   "metadata": {
    "colab_type": "text",
    "id": "heHd3r-MMvP_"
   },
   "source": [
    "##Python tutorial #2"
   ]
  },
  {
   "cell_type": "code",
   "execution_count": 1,
   "metadata": {
    "colab": {},
    "colab_type": "code",
    "executionInfo": {
     "elapsed": 669,
     "status": "ok",
     "timestamp": 1599576707448,
     "user": {
      "displayName": "전은서",
      "photoUrl": "",
      "userId": "00449156262051407787"
     },
     "user_tz": -540
    },
    "id": "Zn9YbNiYMmW5"
   },
   "outputs": [],
   "source": [
    "def hello():\n",
    "  print(\"Hello World\")"
   ]
  },
  {
   "cell_type": "code",
   "execution_count": 2,
   "metadata": {
    "colab": {
     "base_uri": "https://localhost:8080/",
     "height": 34
    },
    "colab_type": "code",
    "executionInfo": {
     "elapsed": 624,
     "status": "ok",
     "timestamp": 1599576716818,
     "user": {
      "displayName": "전은서",
      "photoUrl": "",
      "userId": "00449156262051407787"
     },
     "user_tz": -540
    },
    "id": "SVavu1RtM2Kc",
    "outputId": "e5b40c03-b8fa-4c65-cf9d-ca78788effc9"
   },
   "outputs": [
    {
     "name": "stdout",
     "output_type": "stream",
     "text": [
      "Hello World\n"
     ]
    }
   ],
   "source": [
    "hello()"
   ]
  },
  {
   "cell_type": "code",
   "execution_count": 3,
   "metadata": {
    "colab": {},
    "colab_type": "code",
    "executionInfo": {
     "elapsed": 592,
     "status": "ok",
     "timestamp": 1599576728246,
     "user": {
      "displayName": "전은서",
      "photoUrl": "",
      "userId": "00449156262051407787"
     },
     "user_tz": -540
    },
    "id": "VZ1A8-UOM7Ms"
   },
   "outputs": [],
   "source": [
    "def hello(object):\n",
    "  print(\"Hello \" + object + \"!\")"
   ]
  },
  {
   "cell_type": "code",
   "execution_count": 4,
   "metadata": {
    "colab": {
     "base_uri": "https://localhost:8080/",
     "height": 34
    },
    "colab_type": "code",
    "executionInfo": {
     "elapsed": 607,
     "status": "ok",
     "timestamp": 1599576738086,
     "user": {
      "displayName": "전은서",
      "photoUrl": "",
      "userId": "00449156262051407787"
     },
     "user_tz": -540
    },
    "id": "UzbpCY4iM9_2",
    "outputId": "b2e69749-fec7-4ef5-e3e9-c3ef5b399457"
   },
   "outputs": [
    {
     "name": "stdout",
     "output_type": "stream",
     "text": [
      "Hello cat!\n"
     ]
    }
   ],
   "source": [
    "hello(\"cat\")"
   ]
  },
  {
   "cell_type": "code",
   "execution_count": 5,
   "metadata": {
    "colab": {},
    "colab_type": "code",
    "executionInfo": {
     "elapsed": 675,
     "status": "ok",
     "timestamp": 1599576759523,
     "user": {
      "displayName": "전은서",
      "photoUrl": "",
      "userId": "00449156262051407787"
     },
     "user_tz": -540
    },
    "id": "2jIv4nEANAZR"
   },
   "outputs": [],
   "source": [
    "def mySum(a, b):\n",
    "  return a+b"
   ]
  },
  {
   "cell_type": "code",
   "execution_count": 6,
   "metadata": {
    "colab": {
     "base_uri": "https://localhost:8080/",
     "height": 34
    },
    "colab_type": "code",
    "executionInfo": {
     "elapsed": 701,
     "status": "ok",
     "timestamp": 1599576766686,
     "user": {
      "displayName": "전은서",
      "photoUrl": "",
      "userId": "00449156262051407787"
     },
     "user_tz": -540
    },
    "id": "kIczDzYsNFnQ",
    "outputId": "f733ac9f-13be-4edb-ecae-6ae384571b5c"
   },
   "outputs": [
    {
     "name": "stdout",
     "output_type": "stream",
     "text": [
      "5\n"
     ]
    }
   ],
   "source": [
    "c = mySum(2, 3)\n",
    "print(c)"
   ]
  },
  {
   "cell_type": "code",
   "execution_count": 7,
   "metadata": {
    "colab": {},
    "colab_type": "code",
    "executionInfo": {
     "elapsed": 735,
     "status": "ok",
     "timestamp": 1599576811536,
     "user": {
      "displayName": "전은서",
      "photoUrl": "",
      "userId": "00449156262051407787"
     },
     "user_tz": -540
    },
    "id": "UbstjdSQNHWp"
   },
   "outputs": [],
   "source": [
    "class Man:\n",
    "  def __init__(self, name):\n",
    "    self.name = name\n",
    "    print(\"Initialized!\")\n",
    "  def hello(self):\n",
    "    print(\"Hello \" + self.name + \" !\")\n",
    "\n",
    "  def goodbye(self):\n",
    "    print(\"Good-bye \" + self.name + \" !\")"
   ]
  },
  {
   "cell_type": "code",
   "execution_count": 8,
   "metadata": {
    "colab": {
     "base_uri": "https://localhost:8080/",
     "height": 34
    },
    "colab_type": "code",
    "executionInfo": {
     "elapsed": 772,
     "status": "ok",
     "timestamp": 1599576825840,
     "user": {
      "displayName": "전은서",
      "photoUrl": "",
      "userId": "00449156262051407787"
     },
     "user_tz": -540
    },
    "id": "7-x7-j9LNMWa",
    "outputId": "9e403643-7e3a-46e9-df5f-47d9b80fc1c1"
   },
   "outputs": [
    {
     "name": "stdout",
     "output_type": "stream",
     "text": [
      "Initialized!\n"
     ]
    }
   ],
   "source": [
    "m = Man(\"David\")"
   ]
  },
  {
   "cell_type": "code",
   "execution_count": 9,
   "metadata": {
    "colab": {
     "base_uri": "https://localhost:8080/",
     "height": 34
    },
    "colab_type": "code",
    "executionInfo": {
     "elapsed": 961,
     "status": "ok",
     "timestamp": 1599576833984,
     "user": {
      "displayName": "전은서",
      "photoUrl": "",
      "userId": "00449156262051407787"
     },
     "user_tz": -540
    },
    "id": "s8lsF88lNVxp",
    "outputId": "9412fa50-06f1-4f82-d522-42b29389163e"
   },
   "outputs": [
    {
     "name": "stdout",
     "output_type": "stream",
     "text": [
      "Hello David !\n"
     ]
    }
   ],
   "source": [
    "m.hello()"
   ]
  },
  {
   "cell_type": "code",
   "execution_count": 10,
   "metadata": {
    "colab": {
     "base_uri": "https://localhost:8080/",
     "height": 34
    },
    "colab_type": "code",
    "executionInfo": {
     "elapsed": 669,
     "status": "ok",
     "timestamp": 1599576841955,
     "user": {
      "displayName": "전은서",
      "photoUrl": "",
      "userId": "00449156262051407787"
     },
     "user_tz": -540
    },
    "id": "rACyB603NXug",
    "outputId": "5785ceff-3a8d-4637-f563-f7e429d35d35"
   },
   "outputs": [
    {
     "name": "stdout",
     "output_type": "stream",
     "text": [
      "Good-bye David !\n"
     ]
    }
   ],
   "source": [
    "m.goodbye()"
   ]
  },
  {
   "cell_type": "code",
   "execution_count": null,
   "metadata": {
    "colab": {},
    "colab_type": "code",
    "id": "0-htTulKNZvY"
   },
   "outputs": [],
   "source": []
  }
 ],
 "metadata": {
  "colab": {
   "authorship_tag": "ABX9TyOOV4+5dQwqdWBLf4CiQlhF",
   "collapsed_sections": [],
   "name": "02-HelloPython.ipynb",
   "provenance": []
  },
  "kernelspec": {
   "display_name": "Python 3",
   "language": "python",
   "name": "python3"
  },
  "language_info": {
   "codemirror_mode": {
    "name": "ipython",
    "version": 3
   },
   "file_extension": ".py",
   "mimetype": "text/x-python",
   "name": "python",
   "nbconvert_exporter": "python",
   "pygments_lexer": "ipython3",
   "version": "3.6.9"
  }
 },
 "nbformat": 4,
 "nbformat_minor": 1
}
