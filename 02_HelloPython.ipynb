{
  "nbformat": 4,
  "nbformat_minor": 0,
  "metadata": {
    "colab": {
      "name": "02-HelloPython.ipynb",
      "provenance": [],
      "collapsed_sections": [],
      "authorship_tag": "ABX9TyOOV4+5dQwqdWBLf4CiQlhF",
      "include_colab_link": true
    },
    "kernelspec": {
      "display_name": "Python 3",
      "language": "python",
      "name": "python3"
    },
    "language_info": {
      "codemirror_mode": {
        "name": "ipython",
        "version": 3
      },
      "file_extension": ".py",
      "mimetype": "text/x-python",
      "name": "python",
      "nbconvert_exporter": "python",
      "pygments_lexer": "ipython3",
      "version": "3.6.9"
    }
  },
  "cells": [
    {
      "cell_type": "markdown",
      "metadata": {
        "id": "view-in-github",
        "colab_type": "text"
      },
      "source": [
        "<a href=\"https://colab.research.google.com/github/jeonuenseo/DeepLearning-20F/blob/master/02_HelloPython.ipynb\" target=\"_parent\"><img src=\"https://colab.research.google.com/assets/colab-badge.svg\" alt=\"Open In Colab\"/></a>"
      ]
    },
    {
      "cell_type": "markdown",
      "metadata": {
        "id": "heHd3r-MMvP_"
      },
      "source": [
        "##Python tutorial #2"
      ]
    },
    {
      "cell_type": "code",
      "metadata": {
        "id": "Zn9YbNiYMmW5"
      },
      "source": [
        "def hello():\n",
        "  print(\"Hello World\")"
      ],
      "execution_count": null,
      "outputs": []
    },
    {
      "cell_type": "code",
      "metadata": {
        "colab": {
          "base_uri": "https://localhost:8080/",
          "height": 34
        },
        "id": "SVavu1RtM2Kc",
        "outputId": "e5b40c03-b8fa-4c65-cf9d-ca78788effc9"
      },
      "source": [
        "hello()"
      ],
      "execution_count": null,
      "outputs": [
        {
          "output_type": "stream",
          "text": [
            "Hello World\n"
          ],
          "name": "stdout"
        }
      ]
    },
    {
      "cell_type": "code",
      "metadata": {
        "id": "VZ1A8-UOM7Ms"
      },
      "source": [
        "def hello(object):\n",
        "  print(\"Hello \" + object + \"!\")"
      ],
      "execution_count": null,
      "outputs": []
    },
    {
      "cell_type": "code",
      "metadata": {
        "colab": {
          "base_uri": "https://localhost:8080/",
          "height": 34
        },
        "id": "UzbpCY4iM9_2",
        "outputId": "b2e69749-fec7-4ef5-e3e9-c3ef5b399457"
      },
      "source": [
        "hello(\"cat\")"
      ],
      "execution_count": null,
      "outputs": [
        {
          "output_type": "stream",
          "text": [
            "Hello cat!\n"
          ],
          "name": "stdout"
        }
      ]
    },
    {
      "cell_type": "code",
      "metadata": {
        "id": "2jIv4nEANAZR"
      },
      "source": [
        "def mySum(a, b):\n",
        "  return a+b"
      ],
      "execution_count": null,
      "outputs": []
    },
    {
      "cell_type": "code",
      "metadata": {
        "colab": {
          "base_uri": "https://localhost:8080/",
          "height": 34
        },
        "id": "kIczDzYsNFnQ",
        "outputId": "f733ac9f-13be-4edb-ecae-6ae384571b5c"
      },
      "source": [
        "c = mySum(2, 3)\n",
        "print(c)"
      ],
      "execution_count": null,
      "outputs": [
        {
          "output_type": "stream",
          "text": [
            "5\n"
          ],
          "name": "stdout"
        }
      ]
    },
    {
      "cell_type": "code",
      "metadata": {
        "id": "UbstjdSQNHWp"
      },
      "source": [
        "class Man:\n",
        "  def __init__(self, name):\n",
        "    self.name = name\n",
        "    print(\"Initialized!\")\n",
        "  def hello(self):\n",
        "    print(\"Hello \" + self.name + \" !\")\n",
        "\n",
        "  def goodbye(self):\n",
        "    print(\"Good-bye \" + self.name + \" !\")"
      ],
      "execution_count": null,
      "outputs": []
    },
    {
      "cell_type": "code",
      "metadata": {
        "colab": {
          "base_uri": "https://localhost:8080/",
          "height": 34
        },
        "id": "7-x7-j9LNMWa",
        "outputId": "9e403643-7e3a-46e9-df5f-47d9b80fc1c1"
      },
      "source": [
        "m = Man(\"David\")"
      ],
      "execution_count": null,
      "outputs": [
        {
          "output_type": "stream",
          "text": [
            "Initialized!\n"
          ],
          "name": "stdout"
        }
      ]
    },
    {
      "cell_type": "code",
      "metadata": {
        "colab": {
          "base_uri": "https://localhost:8080/",
          "height": 34
        },
        "id": "s8lsF88lNVxp",
        "outputId": "9412fa50-06f1-4f82-d522-42b29389163e"
      },
      "source": [
        "m.hello()"
      ],
      "execution_count": null,
      "outputs": [
        {
          "output_type": "stream",
          "text": [
            "Hello David !\n"
          ],
          "name": "stdout"
        }
      ]
    },
    {
      "cell_type": "code",
      "metadata": {
        "colab": {
          "base_uri": "https://localhost:8080/",
          "height": 34
        },
        "id": "rACyB603NXug",
        "outputId": "5785ceff-3a8d-4637-f563-f7e429d35d35"
      },
      "source": [
        "m.goodbye()"
      ],
      "execution_count": null,
      "outputs": [
        {
          "output_type": "stream",
          "text": [
            "Good-bye David !\n"
          ],
          "name": "stdout"
        }
      ]
    },
    {
      "cell_type": "code",
      "metadata": {
        "id": "0-htTulKNZvY"
      },
      "source": [
        ""
      ],
      "execution_count": null,
      "outputs": []
    }
  ]
}