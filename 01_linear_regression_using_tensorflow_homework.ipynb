{
  "nbformat": 4,
  "nbformat_minor": 0,
  "metadata": {
    "colab": {
      "name": "01_linear_regression_using_tensorflow_homework.ipynb",
      "provenance": [],
      "collapsed_sections": [],
      "authorship_tag": "ABX9TyNysFllUWJVRacBkQJlrhNs",
      "include_colab_link": true
    },
    "kernelspec": {
      "name": "python3",
      "display_name": "Python 3"
    }
  },
  "cells": [
    {
      "cell_type": "markdown",
      "metadata": {
        "id": "view-in-github",
        "colab_type": "text"
      },
      "source": [
        "<a href=\"https://colab.research.google.com/github/jeonuenseo/DeepLearning-20F/blob/master/01_linear_regression_using_tensorflow_homework.ipynb\" target=\"_parent\"><img src=\"https://colab.research.google.com/assets/colab-badge.svg\" alt=\"Open In Colab\"/></a>"
      ]
    },
    {
      "cell_type": "markdown",
      "metadata": {
        "id": "KJaDCBAv9Iu1"
      },
      "source": [
        "라이브러리 import"
      ]
    },
    {
      "cell_type": "code",
      "metadata": {
        "id": "xcfBBXCO8u56"
      },
      "source": [
        "#import tensorflow as tf\n",
        "import tensorflow.compat.v1 as tf\n",
        "tf.disable_v2_behavior()\n",
        "\n",
        "import numpy as np\n",
        "import matplotlib.pyplot as plt"
      ],
      "execution_count": null,
      "outputs": []
    },
    {
      "cell_type": "markdown",
      "metadata": {
        "id": "PNlrxkVb9iJC"
      },
      "source": [
        "X and Y data(given)"
      ]
    },
    {
      "cell_type": "code",
      "metadata": {
        "id": "Dt7KP0m19g-t"
      },
      "source": [
        "x_train = [1, 2, 3, 4, 5]\n",
        "y_train = [3, 5, 7, 9, 11] #y = 2x+1\n",
        "\n",
        "signal_length = len(x_train)\n",
        "y_noise = np.random.normal(0, 1, signal_length) #평균이 0이고 표준편차가 1인 노이즈를 랜덤생성\n",
        "\n",
        "y_train = y_train + y_noise\n",
        "#노이즈 수동으로 줘도 됨"
      ],
      "execution_count": null,
      "outputs": []
    },
    {
      "cell_type": "code",
      "metadata": {
        "id": "srJisDo0kqhk",
        "outputId": "84313b2b-80ed-496a-ba9b-0d3056b12047",
        "colab": {
          "base_uri": "https://localhost:8080/",
          "height": 265
        }
      },
      "source": [
        "plt.plot(x_train, y_train, '.-')\n",
        "plt.grid()"
      ],
      "execution_count": null,
      "outputs": [
        {
          "output_type": "display_data",
          "data": {
            "image/png": "[encoded data removed]",
            "text/plain": [
              "<Figure size 432x288 with 1 Axes>"
            ]
          },
          "metadata": {
            "tags": [],
            "needs_background": "light"
          }
        }
      ]
    },
    {
      "cell_type": "markdown",
      "metadata": {
        "id": "QWHSqhRc94ZX"
      },
      "source": [
        "initialization"
      ]
    },
    {
      "cell_type": "code",
      "metadata": {
        "id": "B0BbJxXVv4Ce"
      },
      "source": [
        "useRandom = False"
      ],
      "execution_count": null,
      "outputs": []
    },
    {
      "cell_type": "code",
      "metadata": {
        "id": "P-NvaCk8938W"
      },
      "source": [
        "if useRandom:\n",
        "  W = tf.Variable(tf.random_normal([1]), name='weight')\n",
        "  b = tf.Variable(tf.random_normal([1]), name='bias')\n",
        "\n",
        "else:\n",
        "  w0 = 8.0;\n",
        "  b0 = 3.0; #초기값\n",
        "\n",
        "  W = tf.Variable(w0*tf.ones([1]), name='weight')\n",
        "  b = tf.Variable(b0*tf.ones([1]), name='bias')"
      ],
      "execution_count": null,
      "outputs": []
    },
    {
      "cell_type": "markdown",
      "metadata": {
        "id": "GeFm035r-YVz"
      },
      "source": [
        "Our hypotesis\n",
        "$$ H(x)=Wx + b $$"
      ]
    },
    {
      "cell_type": "code",
      "metadata": {
        "id": "JHyWRVhf-XQ_"
      },
      "source": [
        "hypothesis = x_train * W + b"
      ],
      "execution_count": null,
      "outputs": []
    },
    {
      "cell_type": "markdown",
      "metadata": {
        "id": "5__DI36U-0GU"
      },
      "source": [
        "  **cost/loss function 정의하기**\n",
        "  * loss of one training example : \n",
        "    $$loss = {L}(\\hat{y}, y) = (\\hat{y}^{(i)} - y^{(i)})^2 $$\n",
        "    \n",
        "  "
      ]
    },
    {
      "cell_type": "code",
      "metadata": {
        "id": "t2iZFcsH-h6D"
      },
      "source": [
        "loss = tf.reduce_mean(tf.square(hypothesis - y_train))"
      ],
      "execution_count": null,
      "outputs": []
    },
    {
      "cell_type": "markdown",
      "metadata": {
        "id": "vrrEOEd3AlYA"
      },
      "source": [
        "optimizer"
      ]
    },
    {
      "cell_type": "code",
      "metadata": {
        "id": "kI087YYJAfWv"
      },
      "source": [
        "optimizer = tf.train.GradientDescentOptimizer(learning_rate = 0.01)\n",
        "train = optimizer.minimize(loss)"
      ],
      "execution_count": null,
      "outputs": []
    },
    {
      "cell_type": "markdown",
      "metadata": {
        "id": "ZCnxO6QqBKbm"
      },
      "source": [
        "Launch the graph in a session"
      ]
    },
    {
      "cell_type": "code",
      "metadata": {
        "id": "cgNNULNWA4SM"
      },
      "source": [
        "sess = tf.Session()"
      ],
      "execution_count": null,
      "outputs": []
    },
    {
      "cell_type": "markdown",
      "metadata": {
        "id": "gTFOXNX7BcJ_"
      },
      "source": [
        "Initializes global variables in the graph."
      ]
    },
    {
      "cell_type": "code",
      "metadata": {
        "id": "KpDtkI69BbTa"
      },
      "source": [
        "sess.run(tf.global_variables_initializer())"
      ],
      "execution_count": null,
      "outputs": []
    },
    {
      "cell_type": "code",
      "metadata": {
        "id": "jQVF9JmWBgBd",
        "outputId": "01a48389-a5bd-4e2e-df82-b470cbfc5551",
        "colab": {
          "base_uri": "https://localhost:8080/",
          "height": 34
        }
      },
      "source": [
        "nb_epoch = 101\n",
        "vloss = []\n",
        "vw = []\n",
        "vb = []\n",
        "\n",
        "for step in range(nb_epoch):\n",
        "    sess.run(train)\n",
        "    loss1 = sess.run(loss) #loss가 작아져야 에러가 줄어듦\n",
        "    w2 = sess.run(W)\n",
        "    b2 = sess.run(b)\n",
        "    vloss.append(loss1)\n",
        "    vw.append(w2)\n",
        "    vb.append(b2)\n",
        "\n",
        "    \n",
        "    if step % 200 == 0: # 200번마다\n",
        "        w1 = sess.run(W)[0] # 기울기\n",
        "        b1 = sess.run(b)[0] # bias\n",
        "        \n",
        "        print(step,'\\t', loss1, '\\t', w1, '\\t', b1)"
      ],
      "execution_count": null,
      "outputs": [
        {
          "output_type": "stream",
          "text": [
            "0 \t 279.53717 \t 6.548748 \t 2.5968587\n"
          ],
          "name": "stdout"
        }
      ]
    },
    {
      "cell_type": "code",
      "metadata": {
        "id": "HC1rohcliPpN",
        "outputId": "75c09fc1-4a4e-4c73-c6ea-e35876752ad8",
        "colab": {
          "base_uri": "https://localhost:8080/",
          "height": 297
        }
      },
      "source": [
        "plt.plot(vloss[:30], '.-')\n",
        "plt.xlabel('epoch')\n",
        "plt.ylabel('loss')"
      ],
      "execution_count": null,
      "outputs": [
        {
          "output_type": "execute_result",
          "data": {
            "text/plain": [
              "Text(0, 0.5, 'loss')"
            ]
          },
          "metadata": {
            "tags": []
          },
          "execution_count": 54
        },
        {
          "output_type": "display_data",
          "data": {
            "image/png": "[encoded data removed]",
            "text/plain": [
              "<Figure size 432x288 with 1 Axes>"
            ]
          },
          "metadata": {
            "tags": [],
            "needs_background": "light"
          }
        }
      ]
    },
    {
      "cell_type": "code",
      "metadata": {
        "id": "-aO-K6Zl2lsv",
        "outputId": "f8073836-fe7d-463f-cd92-bcc529d73c42",
        "colab": {
          "base_uri": "https://localhost:8080/",
          "height": 265
        }
      },
      "source": [
        "plt.plot(vw)\n",
        "plt.grid()"
      ],
      "execution_count": null,
      "outputs": [
        {
          "output_type": "display_data",
          "data": {
            "image/png": "[encoded data removed]",
            "text/plain": [
              "<Figure size 432x288 with 1 Axes>"
            ]
          },
          "metadata": {
            "tags": [],
            "needs_background": "light"
          }
        }
      ]
    },
    {
      "cell_type": "code",
      "metadata": {
        "id": "RYyGpUe84tlJ",
        "outputId": "1f6538c3-58e6-4600-bf0d-1ab88f019f97",
        "colab": {
          "base_uri": "https://localhost:8080/",
          "height": 265
        }
      },
      "source": [
        "plt.plot(vb)\n",
        "plt.grid()"
      ],
      "execution_count": null,
      "outputs": [
        {
          "output_type": "display_data",
          "data": {
            "image/png": "[encoded data removed]",
            "text/plain": [
              "<Figure size 432x288 with 1 Axes>"
            ]
          },
          "metadata": {
            "tags": [],
            "needs_background": "light"
          }
        }
      ]
    },
    {
      "cell_type": "code",
      "metadata": {
        "id": "qowKFq13uYir"
      },
      "source": [
        "w1 = sess.run(W)[0]\n",
        "b1 = sess.run(b)[0]"
      ],
      "execution_count": null,
      "outputs": []
    },
    {
      "cell_type": "markdown",
      "metadata": {
        "id": "Y-x_WU99BnhS"
      },
      "source": [
        "출력해보기"
      ]
    },
    {
      "cell_type": "code",
      "metadata": {
        "id": "YjGuQByaBkfE",
        "outputId": "e8c17bea-5b6f-413e-ee97-c41a48a9b347",
        "colab": {
          "base_uri": "https://localhost:8080/",
          "height": 52
        }
      },
      "source": [
        "print(w1, b1)\n",
        "\n",
        "str1 = 'y = ' + str(w1) +'x + ' + str(b1)\n",
        "print(str1)"
      ],
      "execution_count": null,
      "outputs": [
        {
          "output_type": "stream",
          "text": [
            "1.8911839 1.2079046\n",
            "y = 1.8911839x + 1.2079046\n"
          ],
          "name": "stdout"
        }
      ]
    },
    {
      "cell_type": "code",
      "metadata": {
        "id": "z9A9H5DSBr04",
        "outputId": "f169266c-79a6-48ae-afe9-399083cc0591",
        "colab": {
          "base_uri": "https://localhost:8080/",
          "height": 298
        }
      },
      "source": [
        "\n",
        "plt.figure(figsize=(6,4)) # figsize를 바꾸어보세요\n",
        "plt.plot(x_train, y_train,'o') #train data 그리기\n",
        "\n",
        "# 직선 그래프를 그리기 위한 코드\n",
        "# 그래프의 x좌표를 일정 간격으로 설정\n",
        "x1 = np.linspace(np.min(x_train)-1, np.max(x_train)+1)\n",
        "y1 = w1*x1 + b1\n",
        "plt.plot(x1, y1)\n",
        "\n",
        "plt.grid() # 격자\n",
        "#plt.axis((np.min(x_train) - 1, np.max(x_train) + 1, np.min(y_train) - 1, np.max(y_train) + 1))\n",
        "plt.title(str1)"
      ],
      "execution_count": null,
      "outputs": [
        {
          "output_type": "execute_result",
          "data": {
            "text/plain": [
              "Text(0.5, 1.0, 'y = 1.8911839x + 1.2079046')"
            ]
          },
          "metadata": {
            "tags": []
          },
          "execution_count": 58
        },
        {
          "output_type": "display_data",
          "data": {
            "image/png": "[encoded data removed]",
            "text/plain": [
              "<Figure size 432x288 with 1 Axes>"
            ]
          },
          "metadata": {
            "tags": [],
            "needs_background": "light"
          }
        }
      ]
    },
    {
      "cell_type": "code",
      "metadata": {
        "id": "r8U8LMs_Bu8c"
      },
      "source": [
        ""
      ],
      "execution_count": null,
      "outputs": []
    }
  ]
}